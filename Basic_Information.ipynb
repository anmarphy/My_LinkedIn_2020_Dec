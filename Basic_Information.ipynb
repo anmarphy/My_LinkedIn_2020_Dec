{
 "cells": [
  {
   "cell_type": "code",
   "execution_count": 1,
   "metadata": {},
   "outputs": [
    {
     "name": "stderr",
     "output_type": "stream",
     "text": [
      "\n",
      "Bad key \"text.kerning_factor\" on line 4 in\n",
      "C:\\ProgramData\\Anaconda3\\lib\\site-packages\\matplotlib\\mpl-data\\stylelib\\_classic_test_patch.mplstyle.\n",
      "You probably need to get an updated matplotlibrc file from\n",
      "https://github.com/matplotlib/matplotlib/blob/v3.1.3/matplotlibrc.template\n",
      "or from the matplotlib source distribution\n"
     ]
    }
   ],
   "source": [
    "import pandas as pd \n",
    "import numpy as np\n",
    "import matplotlib.pyplot as plt\n",
    "%matplotlib notebook"
   ]
  },
  {
   "cell_type": "code",
   "execution_count": 2,
   "metadata": {},
   "outputs": [
    {
     "data": {
      "text/html": [
       "<div>\n",
       "<style scoped>\n",
       "    .dataframe tbody tr th:only-of-type {\n",
       "        vertical-align: middle;\n",
       "    }\n",
       "\n",
       "    .dataframe tbody tr th {\n",
       "        vertical-align: top;\n",
       "    }\n",
       "\n",
       "    .dataframe thead th {\n",
       "        text-align: right;\n",
       "    }\n",
       "</style>\n",
       "<table border=\"1\" class=\"dataframe\">\n",
       "  <thead>\n",
       "    <tr style=\"text-align: right;\">\n",
       "      <th></th>\n",
       "      <th>From</th>\n",
       "      <th>To</th>\n",
       "      <th>Sent At</th>\n",
       "      <th>Message</th>\n",
       "      <th>Direction</th>\n",
       "    </tr>\n",
       "  </thead>\n",
       "  <tbody>\n",
       "    <tr>\n",
       "      <th>577</th>\n",
       "      <td>Aldo Javier Martinez Hutter</td>\n",
       "      <td>Marcela Huerfano</td>\n",
       "      <td>12/5/19, 1:47 PM</td>\n",
       "      <td>NaN</td>\n",
       "      <td>INCOMING</td>\n",
       "    </tr>\n",
       "    <tr>\n",
       "      <th>578</th>\n",
       "      <td>Lina Marcela Escudero Góngora</td>\n",
       "      <td>Marcela Huerfano</td>\n",
       "      <td>12/5/19, 1:43 PM</td>\n",
       "      <td>NaN</td>\n",
       "      <td>INCOMING</td>\n",
       "    </tr>\n",
       "    <tr>\n",
       "      <th>579</th>\n",
       "      <td>Edier Pacheco</td>\n",
       "      <td>Marcela Huerfano</td>\n",
       "      <td>12/5/19, 11:42 AM</td>\n",
       "      <td>NaN</td>\n",
       "      <td>INCOMING</td>\n",
       "    </tr>\n",
       "    <tr>\n",
       "      <th>580</th>\n",
       "      <td>Andres Maldonado</td>\n",
       "      <td>Marcela Huerfano</td>\n",
       "      <td>12/4/19, 5:51 PM</td>\n",
       "      <td>NaN</td>\n",
       "      <td>INCOMING</td>\n",
       "    </tr>\n",
       "    <tr>\n",
       "      <th>581</th>\n",
       "      <td>Absolute Latam</td>\n",
       "      <td>Marcela Huerfano</td>\n",
       "      <td>12/4/19, 3:05 PM</td>\n",
       "      <td>NaN</td>\n",
       "      <td>INCOMING</td>\n",
       "    </tr>\n",
       "  </tbody>\n",
       "</table>\n",
       "</div>"
      ],
      "text/plain": [
       "                              From                To            Sent At  \\\n",
       "577    Aldo Javier Martinez Hutter  Marcela Huerfano   12/5/19, 1:47 PM   \n",
       "578  Lina Marcela Escudero Góngora  Marcela Huerfano   12/5/19, 1:43 PM   \n",
       "579                  Edier Pacheco  Marcela Huerfano  12/5/19, 11:42 AM   \n",
       "580               Andres Maldonado  Marcela Huerfano   12/4/19, 5:51 PM   \n",
       "581                 Absolute Latam  Marcela Huerfano   12/4/19, 3:05 PM   \n",
       "\n",
       "    Message Direction  \n",
       "577     NaN  INCOMING  \n",
       "578     NaN  INCOMING  \n",
       "579     NaN  INCOMING  \n",
       "580     NaN  INCOMING  \n",
       "581     NaN  INCOMING  "
      ]
     },
     "execution_count": 2,
     "metadata": {},
     "output_type": "execute_result"
    }
   ],
   "source": [
    "Invitations=pd.read_csv(r'C:\\Users\\Andrea\\Desktop\\My_LinkedIn\\Basic_Information_Files\\Invitations.csv')\n",
    "Invitations.tail()"
   ]
  },
  {
   "cell_type": "code",
   "execution_count": 3,
   "metadata": {},
   "outputs": [
    {
     "data": {
      "text/plain": [
       "From         object\n",
       "To           object\n",
       "Sent At      object\n",
       "Message      object\n",
       "Direction    object\n",
       "dtype: object"
      ]
     },
     "execution_count": 3,
     "metadata": {},
     "output_type": "execute_result"
    }
   ],
   "source": [
    "Invitations.dtypes"
   ]
  },
  {
   "cell_type": "code",
   "execution_count": 4,
   "metadata": {},
   "outputs": [
    {
     "data": {
      "text/html": [
       "<div>\n",
       "<style scoped>\n",
       "    .dataframe tbody tr th:only-of-type {\n",
       "        vertical-align: middle;\n",
       "    }\n",
       "\n",
       "    .dataframe tbody tr th {\n",
       "        vertical-align: top;\n",
       "    }\n",
       "\n",
       "    .dataframe thead th {\n",
       "        text-align: right;\n",
       "    }\n",
       "</style>\n",
       "<table border=\"1\" class=\"dataframe\">\n",
       "  <thead>\n",
       "    <tr style=\"text-align: right;\">\n",
       "      <th></th>\n",
       "      <th>Month</th>\n",
       "      <th>Day</th>\n",
       "      <th>Year</th>\n",
       "      <th>Date</th>\n",
       "    </tr>\n",
       "  </thead>\n",
       "  <tbody>\n",
       "    <tr>\n",
       "      <th>0</th>\n",
       "      <td>12</td>\n",
       "      <td>12</td>\n",
       "      <td>20</td>\n",
       "      <td>12/12/20</td>\n",
       "    </tr>\n",
       "    <tr>\n",
       "      <th>1</th>\n",
       "      <td>12</td>\n",
       "      <td>11</td>\n",
       "      <td>20</td>\n",
       "      <td>12/11/20</td>\n",
       "    </tr>\n",
       "    <tr>\n",
       "      <th>2</th>\n",
       "      <td>12</td>\n",
       "      <td>11</td>\n",
       "      <td>20</td>\n",
       "      <td>12/11/20</td>\n",
       "    </tr>\n",
       "    <tr>\n",
       "      <th>3</th>\n",
       "      <td>12</td>\n",
       "      <td>11</td>\n",
       "      <td>20</td>\n",
       "      <td>12/11/20</td>\n",
       "    </tr>\n",
       "    <tr>\n",
       "      <th>4</th>\n",
       "      <td>12</td>\n",
       "      <td>9</td>\n",
       "      <td>20</td>\n",
       "      <td>12/9/20</td>\n",
       "    </tr>\n",
       "  </tbody>\n",
       "</table>\n",
       "</div>"
      ],
      "text/plain": [
       "  Month Day Year      Date\n",
       "0    12  12   20  12/12/20\n",
       "1    12  11   20  12/11/20\n",
       "2    12  11   20  12/11/20\n",
       "3    12  11   20  12/11/20\n",
       "4    12   9   20   12/9/20"
      ]
     },
     "execution_count": 4,
     "metadata": {},
     "output_type": "execute_result"
    }
   ],
   "source": [
    "rule1 = r'(?P<Month>\\d{1,2})[/](?P<Day>\\d{1,2})[/](?P<Year>\\d{2})'\n",
    "rule2 = r'(?P<Date>\\d{1,2}[/]\\d{1,2}[/]\\d{2})'\n",
    "\n",
    "extract_df = Invitations['Sent At'].str.lower().str.extract(rule1)\n",
    "extract_df['Date']=Invitations['Sent At'].str.lower().str.extract(rule2)\n",
    "extract_df.head()"
   ]
  },
  {
   "cell_type": "code",
   "execution_count": 5,
   "metadata": {},
   "outputs": [
    {
     "data": {
      "text/html": [
       "<div>\n",
       "<style scoped>\n",
       "    .dataframe tbody tr th:only-of-type {\n",
       "        vertical-align: middle;\n",
       "    }\n",
       "\n",
       "    .dataframe tbody tr th {\n",
       "        vertical-align: top;\n",
       "    }\n",
       "\n",
       "    .dataframe thead th {\n",
       "        text-align: right;\n",
       "    }\n",
       "</style>\n",
       "<table border=\"1\" class=\"dataframe\">\n",
       "  <thead>\n",
       "    <tr style=\"text-align: right;\">\n",
       "      <th></th>\n",
       "      <th>From</th>\n",
       "      <th>To</th>\n",
       "      <th>Sent At</th>\n",
       "      <th>Message</th>\n",
       "      <th>Direction</th>\n",
       "      <th>Month</th>\n",
       "      <th>Day</th>\n",
       "      <th>Year</th>\n",
       "      <th>Date</th>\n",
       "    </tr>\n",
       "  </thead>\n",
       "  <tbody>\n",
       "    <tr>\n",
       "      <th>577</th>\n",
       "      <td>Aldo Javier Martinez Hutter</td>\n",
       "      <td>Marcela Huerfano</td>\n",
       "      <td>12/5/19, 1:47 PM</td>\n",
       "      <td>NaN</td>\n",
       "      <td>INCOMING</td>\n",
       "      <td>12</td>\n",
       "      <td>5</td>\n",
       "      <td>19</td>\n",
       "      <td>12/5/19</td>\n",
       "    </tr>\n",
       "    <tr>\n",
       "      <th>578</th>\n",
       "      <td>Lina Marcela Escudero Góngora</td>\n",
       "      <td>Marcela Huerfano</td>\n",
       "      <td>12/5/19, 1:43 PM</td>\n",
       "      <td>NaN</td>\n",
       "      <td>INCOMING</td>\n",
       "      <td>12</td>\n",
       "      <td>5</td>\n",
       "      <td>19</td>\n",
       "      <td>12/5/19</td>\n",
       "    </tr>\n",
       "    <tr>\n",
       "      <th>579</th>\n",
       "      <td>Edier Pacheco</td>\n",
       "      <td>Marcela Huerfano</td>\n",
       "      <td>12/5/19, 11:42 AM</td>\n",
       "      <td>NaN</td>\n",
       "      <td>INCOMING</td>\n",
       "      <td>12</td>\n",
       "      <td>5</td>\n",
       "      <td>19</td>\n",
       "      <td>12/5/19</td>\n",
       "    </tr>\n",
       "    <tr>\n",
       "      <th>580</th>\n",
       "      <td>Andres Maldonado</td>\n",
       "      <td>Marcela Huerfano</td>\n",
       "      <td>12/4/19, 5:51 PM</td>\n",
       "      <td>NaN</td>\n",
       "      <td>INCOMING</td>\n",
       "      <td>12</td>\n",
       "      <td>4</td>\n",
       "      <td>19</td>\n",
       "      <td>12/4/19</td>\n",
       "    </tr>\n",
       "    <tr>\n",
       "      <th>581</th>\n",
       "      <td>Absolute Latam</td>\n",
       "      <td>Marcela Huerfano</td>\n",
       "      <td>12/4/19, 3:05 PM</td>\n",
       "      <td>NaN</td>\n",
       "      <td>INCOMING</td>\n",
       "      <td>12</td>\n",
       "      <td>4</td>\n",
       "      <td>19</td>\n",
       "      <td>12/4/19</td>\n",
       "    </tr>\n",
       "  </tbody>\n",
       "</table>\n",
       "</div>"
      ],
      "text/plain": [
       "                              From                To            Sent At  \\\n",
       "577    Aldo Javier Martinez Hutter  Marcela Huerfano   12/5/19, 1:47 PM   \n",
       "578  Lina Marcela Escudero Góngora  Marcela Huerfano   12/5/19, 1:43 PM   \n",
       "579                  Edier Pacheco  Marcela Huerfano  12/5/19, 11:42 AM   \n",
       "580               Andres Maldonado  Marcela Huerfano   12/4/19, 5:51 PM   \n",
       "581                 Absolute Latam  Marcela Huerfano   12/4/19, 3:05 PM   \n",
       "\n",
       "    Message Direction Month Day Year     Date  \n",
       "577     NaN  INCOMING    12   5   19  12/5/19  \n",
       "578     NaN  INCOMING    12   5   19  12/5/19  \n",
       "579     NaN  INCOMING    12   5   19  12/5/19  \n",
       "580     NaN  INCOMING    12   4   19  12/4/19  \n",
       "581     NaN  INCOMING    12   4   19  12/4/19  "
      ]
     },
     "execution_count": 5,
     "metadata": {},
     "output_type": "execute_result"
    }
   ],
   "source": [
    "Invitations=pd.concat([Invitations, extract_df], axis=1)\n",
    "Invitations.tail()"
   ]
  },
  {
   "cell_type": "code",
   "execution_count": 6,
   "metadata": {},
   "outputs": [
    {
     "data": {
      "text/plain": [
       "From         object\n",
       "To           object\n",
       "Sent At      object\n",
       "Message      object\n",
       "Direction    object\n",
       "Month        object\n",
       "Day          object\n",
       "Year         object\n",
       "Date         object\n",
       "dtype: object"
      ]
     },
     "execution_count": 6,
     "metadata": {},
     "output_type": "execute_result"
    }
   ],
   "source": [
    "Invitations.dtypes"
   ]
  },
  {
   "cell_type": "code",
   "execution_count": 7,
   "metadata": {},
   "outputs": [],
   "source": [
    "Invitations['Date']=pd.to_datetime(Invitations['Date'])"
   ]
  },
  {
   "cell_type": "code",
   "execution_count": null,
   "metadata": {},
   "outputs": [],
   "source": []
  },
  {
   "cell_type": "code",
   "execution_count": null,
   "metadata": {},
   "outputs": [],
   "source": []
  }
 ],
 "metadata": {
  "kernelspec": {
   "display_name": "Python 3",
   "language": "python",
   "name": "python3"
  },
  "language_info": {
   "codemirror_mode": {
    "name": "ipython",
    "version": 3
   },
   "file_extension": ".py",
   "mimetype": "text/x-python",
   "name": "python",
   "nbconvert_exporter": "python",
   "pygments_lexer": "ipython3",
   "version": "3.7.9"
  }
 },
 "nbformat": 4,
 "nbformat_minor": 4
}
