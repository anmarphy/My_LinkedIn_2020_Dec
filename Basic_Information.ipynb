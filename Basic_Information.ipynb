{
 "cells": [
  {
   "cell_type": "code",
   "execution_count": 7,
   "metadata": {},
   "outputs": [
    {
     "name": "stderr",
     "output_type": "stream",
     "text": [
      "\n",
      "Bad key \"text.kerning_factor\" on line 4 in\n",
      "C:\\ProgramData\\Anaconda3\\lib\\site-packages\\matplotlib\\mpl-data\\stylelib\\_classic_test_patch.mplstyle.\n",
      "You probably need to get an updated matplotlibrc file from\n",
      "https://github.com/matplotlib/matplotlib/blob/v3.1.3/matplotlibrc.template\n",
      "or from the matplotlib source distribution\n"
     ]
    }
   ],
   "source": [
    "import pandas as pd \n",
    "import numpy as np\n",
    "import matplotlib.pyplot as plt\n",
    "%matplotlib notebook"
   ]
  },
  {
   "cell_type": "code",
   "execution_count": 6,
   "metadata": {},
   "outputs": [
    {
     "data": {
      "text/html": [
       "<div>\n",
       "<style scoped>\n",
       "    .dataframe tbody tr th:only-of-type {\n",
       "        vertical-align: middle;\n",
       "    }\n",
       "\n",
       "    .dataframe tbody tr th {\n",
       "        vertical-align: top;\n",
       "    }\n",
       "\n",
       "    .dataframe thead th {\n",
       "        text-align: right;\n",
       "    }\n",
       "</style>\n",
       "<table border=\"1\" class=\"dataframe\">\n",
       "  <thead>\n",
       "    <tr style=\"text-align: right;\">\n",
       "      <th></th>\n",
       "      <th>From</th>\n",
       "      <th>To</th>\n",
       "      <th>Sent At</th>\n",
       "      <th>Message</th>\n",
       "      <th>Direction</th>\n",
       "    </tr>\n",
       "  </thead>\n",
       "  <tbody>\n",
       "    <tr>\n",
       "      <th>0</th>\n",
       "      <td>Marcela Huerfano</td>\n",
       "      <td>Haldo Spontón</td>\n",
       "      <td>12/12/20, 10:16 AM</td>\n",
       "      <td>NaN</td>\n",
       "      <td>OUTGOING</td>\n",
       "    </tr>\n",
       "    <tr>\n",
       "      <th>1</th>\n",
       "      <td>Marcela Huerfano</td>\n",
       "      <td>Marta Sylvia del Rio Guerra</td>\n",
       "      <td>12/11/20, 3:48 PM</td>\n",
       "      <td>NaN</td>\n",
       "      <td>OUTGOING</td>\n",
       "    </tr>\n",
       "    <tr>\n",
       "      <th>2</th>\n",
       "      <td>Marcela Huerfano</td>\n",
       "      <td>Nicolás E. Ozimica</td>\n",
       "      <td>12/11/20, 12:43 PM</td>\n",
       "      <td>NaN</td>\n",
       "      <td>OUTGOING</td>\n",
       "    </tr>\n",
       "    <tr>\n",
       "      <th>3</th>\n",
       "      <td>Marcela Huerfano</td>\n",
       "      <td>Jose Ricardo Zapata Gonzalez</td>\n",
       "      <td>12/11/20, 5:52 AM</td>\n",
       "      <td>NaN</td>\n",
       "      <td>OUTGOING</td>\n",
       "    </tr>\n",
       "    <tr>\n",
       "      <th>4</th>\n",
       "      <td>Marcela Huerfano</td>\n",
       "      <td>Nicolas Martinez Baquero</td>\n",
       "      <td>12/9/20, 10:19 AM</td>\n",
       "      <td>NaN</td>\n",
       "      <td>OUTGOING</td>\n",
       "    </tr>\n",
       "  </tbody>\n",
       "</table>\n",
       "</div>"
      ],
      "text/plain": [
       "               From                            To             Sent At Message  \\\n",
       "0  Marcela Huerfano                 Haldo Spontón  12/12/20, 10:16 AM     NaN   \n",
       "1  Marcela Huerfano   Marta Sylvia del Rio Guerra   12/11/20, 3:48 PM     NaN   \n",
       "2  Marcela Huerfano            Nicolás E. Ozimica  12/11/20, 12:43 PM     NaN   \n",
       "3  Marcela Huerfano  Jose Ricardo Zapata Gonzalez   12/11/20, 5:52 AM     NaN   \n",
       "4  Marcela Huerfano      Nicolas Martinez Baquero   12/9/20, 10:19 AM     NaN   \n",
       "\n",
       "  Direction  \n",
       "0  OUTGOING  \n",
       "1  OUTGOING  \n",
       "2  OUTGOING  \n",
       "3  OUTGOING  \n",
       "4  OUTGOING  "
      ]
     },
     "execution_count": 6,
     "metadata": {},
     "output_type": "execute_result"
    }
   ],
   "source": [
    "Invitations=pd.read_csv(r'C:\\Users\\Andrea\\Desktop\\My_LinkedIn\\Basic_Information_Files\\Invitations.csv')\n",
    "Invitations.head()"
   ]
  },
  {
   "cell_type": "code",
   "execution_count": 9,
   "metadata": {},
   "outputs": [
    {
     "data": {
      "text/plain": [
       "From         object\n",
       "To           object\n",
       "Sent At      object\n",
       "Message      object\n",
       "Direction    object\n",
       "dtype: object"
      ]
     },
     "execution_count": 9,
     "metadata": {},
     "output_type": "execute_result"
    }
   ],
   "source": [
    "Invitations.dtypes"
   ]
  },
  {
   "cell_type": "code",
   "execution_count": null,
   "metadata": {},
   "outputs": [],
   "source": []
  }
 ],
 "metadata": {
  "kernelspec": {
   "display_name": "Python 3",
   "language": "python",
   "name": "python3"
  },
  "language_info": {
   "codemirror_mode": {
    "name": "ipython",
    "version": 3
   },
   "file_extension": ".py",
   "mimetype": "text/x-python",
   "name": "python",
   "nbconvert_exporter": "python",
   "pygments_lexer": "ipython3",
   "version": "3.7.9"
  }
 },
 "nbformat": 4,
 "nbformat_minor": 4
}
