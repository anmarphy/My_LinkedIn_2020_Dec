{
 "cells": [
  {
   "cell_type": "code",
   "execution_count": 1,
   "metadata": {},
   "outputs": [
    {
     "name": "stderr",
     "output_type": "stream",
     "text": [
      "\n",
      "Bad key \"text.kerning_factor\" on line 4 in\n",
      "C:\\ProgramData\\Anaconda3\\lib\\site-packages\\matplotlib\\mpl-data\\stylelib\\_classic_test_patch.mplstyle.\n",
      "You probably need to get an updated matplotlibrc file from\n",
      "https://github.com/matplotlib/matplotlib/blob/v3.1.3/matplotlibrc.template\n",
      "or from the matplotlib source distribution\n"
     ]
    }
   ],
   "source": [
    "import pandas as pd \n",
    "import numpy as np\n",
    "import matplotlib.pyplot as plt\n",
    "import seaborn as sns\n",
    "#%matplotlib notebook"
   ]
  },
  {
   "cell_type": "code",
   "execution_count": 2,
   "metadata": {},
   "outputs": [
    {
     "data": {
      "text/html": [
       "<div>\n",
       "<style scoped>\n",
       "    .dataframe tbody tr th:only-of-type {\n",
       "        vertical-align: middle;\n",
       "    }\n",
       "\n",
       "    .dataframe tbody tr th {\n",
       "        vertical-align: top;\n",
       "    }\n",
       "\n",
       "    .dataframe thead th {\n",
       "        text-align: right;\n",
       "    }\n",
       "</style>\n",
       "<table border=\"1\" class=\"dataframe\">\n",
       "  <thead>\n",
       "    <tr style=\"text-align: right;\">\n",
       "      <th></th>\n",
       "      <th>From</th>\n",
       "      <th>To</th>\n",
       "      <th>Sent At</th>\n",
       "      <th>Message</th>\n",
       "      <th>Direction</th>\n",
       "    </tr>\n",
       "  </thead>\n",
       "  <tbody>\n",
       "    <tr>\n",
       "      <th>577</th>\n",
       "      <td>Aldo Javier Martinez Hutter</td>\n",
       "      <td>Marcela Huerfano</td>\n",
       "      <td>12/5/19, 1:47 PM</td>\n",
       "      <td>NaN</td>\n",
       "      <td>INCOMING</td>\n",
       "    </tr>\n",
       "    <tr>\n",
       "      <th>578</th>\n",
       "      <td>Lina Marcela Escudero Góngora</td>\n",
       "      <td>Marcela Huerfano</td>\n",
       "      <td>12/5/19, 1:43 PM</td>\n",
       "      <td>NaN</td>\n",
       "      <td>INCOMING</td>\n",
       "    </tr>\n",
       "    <tr>\n",
       "      <th>579</th>\n",
       "      <td>Edier Pacheco</td>\n",
       "      <td>Marcela Huerfano</td>\n",
       "      <td>12/5/19, 11:42 AM</td>\n",
       "      <td>NaN</td>\n",
       "      <td>INCOMING</td>\n",
       "    </tr>\n",
       "    <tr>\n",
       "      <th>580</th>\n",
       "      <td>Andres Maldonado</td>\n",
       "      <td>Marcela Huerfano</td>\n",
       "      <td>12/4/19, 5:51 PM</td>\n",
       "      <td>NaN</td>\n",
       "      <td>INCOMING</td>\n",
       "    </tr>\n",
       "    <tr>\n",
       "      <th>581</th>\n",
       "      <td>Absolute Latam</td>\n",
       "      <td>Marcela Huerfano</td>\n",
       "      <td>12/4/19, 3:05 PM</td>\n",
       "      <td>NaN</td>\n",
       "      <td>INCOMING</td>\n",
       "    </tr>\n",
       "  </tbody>\n",
       "</table>\n",
       "</div>"
      ],
      "text/plain": [
       "                              From                To            Sent At  \\\n",
       "577    Aldo Javier Martinez Hutter  Marcela Huerfano   12/5/19, 1:47 PM   \n",
       "578  Lina Marcela Escudero Góngora  Marcela Huerfano   12/5/19, 1:43 PM   \n",
       "579                  Edier Pacheco  Marcela Huerfano  12/5/19, 11:42 AM   \n",
       "580               Andres Maldonado  Marcela Huerfano   12/4/19, 5:51 PM   \n",
       "581                 Absolute Latam  Marcela Huerfano   12/4/19, 3:05 PM   \n",
       "\n",
       "    Message Direction  \n",
       "577     NaN  INCOMING  \n",
       "578     NaN  INCOMING  \n",
       "579     NaN  INCOMING  \n",
       "580     NaN  INCOMING  \n",
       "581     NaN  INCOMING  "
      ]
     },
     "execution_count": 2,
     "metadata": {},
     "output_type": "execute_result"
    }
   ],
   "source": [
    "Invitations=pd.read_csv(r'C:\\Users\\Andrea\\Desktop\\My_LinkedIn\\Basic_Information_Files\\Invitations.csv')\n",
    "Invitations.tail()"
   ]
  },
  {
   "cell_type": "code",
   "execution_count": 3,
   "metadata": {},
   "outputs": [
    {
     "data": {
      "text/plain": [
       "582"
      ]
     },
     "execution_count": 3,
     "metadata": {},
     "output_type": "execute_result"
    }
   ],
   "source": [
    "Invitations.shape[0]"
   ]
  },
  {
   "cell_type": "code",
   "execution_count": 4,
   "metadata": {},
   "outputs": [
    {
     "data": {
      "text/plain": [
       "From         object\n",
       "To           object\n",
       "Sent At      object\n",
       "Message      object\n",
       "Direction    object\n",
       "dtype: object"
      ]
     },
     "execution_count": 4,
     "metadata": {},
     "output_type": "execute_result"
    }
   ],
   "source": [
    "Invitations.dtypes"
   ]
  },
  {
   "cell_type": "code",
   "execution_count": 5,
   "metadata": {},
   "outputs": [
    {
     "data": {
      "text/html": [
       "<div>\n",
       "<style scoped>\n",
       "    .dataframe tbody tr th:only-of-type {\n",
       "        vertical-align: middle;\n",
       "    }\n",
       "\n",
       "    .dataframe tbody tr th {\n",
       "        vertical-align: top;\n",
       "    }\n",
       "\n",
       "    .dataframe thead th {\n",
       "        text-align: right;\n",
       "    }\n",
       "</style>\n",
       "<table border=\"1\" class=\"dataframe\">\n",
       "  <thead>\n",
       "    <tr style=\"text-align: right;\">\n",
       "      <th></th>\n",
       "      <th>Month</th>\n",
       "      <th>Day</th>\n",
       "      <th>Year</th>\n",
       "      <th>Date</th>\n",
       "      <th>Time</th>\n",
       "      <th>Hour</th>\n",
       "      <th>AP</th>\n",
       "    </tr>\n",
       "  </thead>\n",
       "  <tbody>\n",
       "    <tr>\n",
       "      <th>0</th>\n",
       "      <td>12</td>\n",
       "      <td>12</td>\n",
       "      <td>20</td>\n",
       "      <td>12/12/20</td>\n",
       "      <td>10:16 am</td>\n",
       "      <td>10</td>\n",
       "      <td>am</td>\n",
       "    </tr>\n",
       "    <tr>\n",
       "      <th>1</th>\n",
       "      <td>12</td>\n",
       "      <td>11</td>\n",
       "      <td>20</td>\n",
       "      <td>12/11/20</td>\n",
       "      <td>3:48 pm</td>\n",
       "      <td>3</td>\n",
       "      <td>pm</td>\n",
       "    </tr>\n",
       "    <tr>\n",
       "      <th>2</th>\n",
       "      <td>12</td>\n",
       "      <td>11</td>\n",
       "      <td>20</td>\n",
       "      <td>12/11/20</td>\n",
       "      <td>12:43 pm</td>\n",
       "      <td>12</td>\n",
       "      <td>pm</td>\n",
       "    </tr>\n",
       "    <tr>\n",
       "      <th>3</th>\n",
       "      <td>12</td>\n",
       "      <td>11</td>\n",
       "      <td>20</td>\n",
       "      <td>12/11/20</td>\n",
       "      <td>5:52 am</td>\n",
       "      <td>5</td>\n",
       "      <td>am</td>\n",
       "    </tr>\n",
       "    <tr>\n",
       "      <th>4</th>\n",
       "      <td>12</td>\n",
       "      <td>9</td>\n",
       "      <td>20</td>\n",
       "      <td>12/9/20</td>\n",
       "      <td>10:19 am</td>\n",
       "      <td>10</td>\n",
       "      <td>am</td>\n",
       "    </tr>\n",
       "  </tbody>\n",
       "</table>\n",
       "</div>"
      ],
      "text/plain": [
       "  Month Day Year      Date      Time Hour   AP\n",
       "0    12  12   20  12/12/20  10:16 am   10   am\n",
       "1    12  11   20  12/11/20   3:48 pm    3   pm\n",
       "2    12  11   20  12/11/20  12:43 pm   12   pm\n",
       "3    12  11   20  12/11/20   5:52 am    5   am\n",
       "4    12   9   20   12/9/20  10:19 am   10   am"
      ]
     },
     "execution_count": 5,
     "metadata": {},
     "output_type": "execute_result"
    }
   ],
   "source": [
    "rule1 = r'(?P<Month>\\d{1,2})[/](?P<Day>\\d{1,2})[/](?P<Year>\\d{2})'\n",
    "rule2 = r'(?P<Date>\\d{1,2}[/]\\d{1,2}[/]\\d{2})'\n",
    "rule3 = r'(?P<Time>\\d{1,2}[:]\\d{1,2}[ ]\\w{1,2})'\n",
    "rule4 = r'(?P<Hour> \\w{1,2})'\n",
    "rule5 = r'(?P<AP> am|pm)'\n",
    "extract_df = Invitations['Sent At'].str.lower().str.extract(rule1)\n",
    "extract_df['Date']=Invitations['Sent At'].str.lower().str.extract(rule2)\n",
    "extract_df['Time']=Invitations['Sent At'].str.lower().str.extract(rule3)\n",
    "extract_df['Hour']=Invitations['Sent At'].str.lower().str.extract(rule4)\n",
    "extract_df['AP']=Invitations['Sent At'].str.lower().str.extract(rule5)\n",
    "extract_df.head()"
   ]
  },
  {
   "cell_type": "code",
   "execution_count": 6,
   "metadata": {},
   "outputs": [
    {
     "data": {
      "text/html": [
       "<div>\n",
       "<style scoped>\n",
       "    .dataframe tbody tr th:only-of-type {\n",
       "        vertical-align: middle;\n",
       "    }\n",
       "\n",
       "    .dataframe tbody tr th {\n",
       "        vertical-align: top;\n",
       "    }\n",
       "\n",
       "    .dataframe thead th {\n",
       "        text-align: right;\n",
       "    }\n",
       "</style>\n",
       "<table border=\"1\" class=\"dataframe\">\n",
       "  <thead>\n",
       "    <tr style=\"text-align: right;\">\n",
       "      <th></th>\n",
       "      <th>From</th>\n",
       "      <th>To</th>\n",
       "      <th>Sent At</th>\n",
       "      <th>Message</th>\n",
       "      <th>Direction</th>\n",
       "      <th>Month</th>\n",
       "      <th>Day</th>\n",
       "      <th>Year</th>\n",
       "      <th>Date</th>\n",
       "      <th>Time</th>\n",
       "      <th>Hour</th>\n",
       "      <th>AP</th>\n",
       "    </tr>\n",
       "  </thead>\n",
       "  <tbody>\n",
       "    <tr>\n",
       "      <th>577</th>\n",
       "      <td>Aldo Javier Martinez Hutter</td>\n",
       "      <td>Marcela Huerfano</td>\n",
       "      <td>12/5/19, 1:47 PM</td>\n",
       "      <td>NaN</td>\n",
       "      <td>INCOMING</td>\n",
       "      <td>12</td>\n",
       "      <td>5</td>\n",
       "      <td>19</td>\n",
       "      <td>12/5/19</td>\n",
       "      <td>1:47 pm</td>\n",
       "      <td>1</td>\n",
       "      <td>pm</td>\n",
       "    </tr>\n",
       "    <tr>\n",
       "      <th>578</th>\n",
       "      <td>Lina Marcela Escudero Góngora</td>\n",
       "      <td>Marcela Huerfano</td>\n",
       "      <td>12/5/19, 1:43 PM</td>\n",
       "      <td>NaN</td>\n",
       "      <td>INCOMING</td>\n",
       "      <td>12</td>\n",
       "      <td>5</td>\n",
       "      <td>19</td>\n",
       "      <td>12/5/19</td>\n",
       "      <td>1:43 pm</td>\n",
       "      <td>1</td>\n",
       "      <td>pm</td>\n",
       "    </tr>\n",
       "    <tr>\n",
       "      <th>579</th>\n",
       "      <td>Edier Pacheco</td>\n",
       "      <td>Marcela Huerfano</td>\n",
       "      <td>12/5/19, 11:42 AM</td>\n",
       "      <td>NaN</td>\n",
       "      <td>INCOMING</td>\n",
       "      <td>12</td>\n",
       "      <td>5</td>\n",
       "      <td>19</td>\n",
       "      <td>12/5/19</td>\n",
       "      <td>11:42 am</td>\n",
       "      <td>11</td>\n",
       "      <td>am</td>\n",
       "    </tr>\n",
       "    <tr>\n",
       "      <th>580</th>\n",
       "      <td>Andres Maldonado</td>\n",
       "      <td>Marcela Huerfano</td>\n",
       "      <td>12/4/19, 5:51 PM</td>\n",
       "      <td>NaN</td>\n",
       "      <td>INCOMING</td>\n",
       "      <td>12</td>\n",
       "      <td>4</td>\n",
       "      <td>19</td>\n",
       "      <td>12/4/19</td>\n",
       "      <td>5:51 pm</td>\n",
       "      <td>5</td>\n",
       "      <td>pm</td>\n",
       "    </tr>\n",
       "    <tr>\n",
       "      <th>581</th>\n",
       "      <td>Absolute Latam</td>\n",
       "      <td>Marcela Huerfano</td>\n",
       "      <td>12/4/19, 3:05 PM</td>\n",
       "      <td>NaN</td>\n",
       "      <td>INCOMING</td>\n",
       "      <td>12</td>\n",
       "      <td>4</td>\n",
       "      <td>19</td>\n",
       "      <td>12/4/19</td>\n",
       "      <td>3:05 pm</td>\n",
       "      <td>3</td>\n",
       "      <td>pm</td>\n",
       "    </tr>\n",
       "  </tbody>\n",
       "</table>\n",
       "</div>"
      ],
      "text/plain": [
       "                              From                To            Sent At  \\\n",
       "577    Aldo Javier Martinez Hutter  Marcela Huerfano   12/5/19, 1:47 PM   \n",
       "578  Lina Marcela Escudero Góngora  Marcela Huerfano   12/5/19, 1:43 PM   \n",
       "579                  Edier Pacheco  Marcela Huerfano  12/5/19, 11:42 AM   \n",
       "580               Andres Maldonado  Marcela Huerfano   12/4/19, 5:51 PM   \n",
       "581                 Absolute Latam  Marcela Huerfano   12/4/19, 3:05 PM   \n",
       "\n",
       "    Message Direction Month Day Year     Date      Time Hour   AP  \n",
       "577     NaN  INCOMING    12   5   19  12/5/19   1:47 pm    1   pm  \n",
       "578     NaN  INCOMING    12   5   19  12/5/19   1:43 pm    1   pm  \n",
       "579     NaN  INCOMING    12   5   19  12/5/19  11:42 am   11   am  \n",
       "580     NaN  INCOMING    12   4   19  12/4/19   5:51 pm    5   pm  \n",
       "581     NaN  INCOMING    12   4   19  12/4/19   3:05 pm    3   pm  "
      ]
     },
     "execution_count": 6,
     "metadata": {},
     "output_type": "execute_result"
    }
   ],
   "source": [
    "Invitations=pd.concat([Invitations, extract_df], axis=1)\n",
    "Invitations.tail()"
   ]
  },
  {
   "cell_type": "code",
   "execution_count": 7,
   "metadata": {},
   "outputs": [
    {
     "data": {
      "text/plain": [
       "From         object\n",
       "To           object\n",
       "Sent At      object\n",
       "Message      object\n",
       "Direction    object\n",
       "Month         int32\n",
       "Day           int32\n",
       "Year          int32\n",
       "Date         object\n",
       "Time         object\n",
       "Hour          int32\n",
       "AP           object\n",
       "dtype: object"
      ]
     },
     "execution_count": 7,
     "metadata": {},
     "output_type": "execute_result"
    }
   ],
   "source": [
    "Int_list=['Month', 'Day', 'Year', 'Hour']\n",
    "for variable in Int_list:\n",
    "    Invitations[variable]=Invitations[variable].astype(int)\n",
    "Invitations.dtypes"
   ]
  },
  {
   "cell_type": "code",
   "execution_count": 8,
   "metadata": {},
   "outputs": [],
   "source": [
    "def hour_std(x):\n",
    "    if x['AP']=='pm':\n",
    "        x['Hour']+=12\n",
    "    return x['Hour']"
   ]
  },
  {
   "cell_type": "code",
   "execution_count": 9,
   "metadata": {},
   "outputs": [],
   "source": [
    "Invitations['Hour_st24']=Invitations.apply(hour_std, axis=1)"
   ]
  },
  {
   "cell_type": "code",
   "execution_count": 10,
   "metadata": {
    "scrolled": true
   },
   "outputs": [
    {
     "data": {
      "text/html": [
       "<div>\n",
       "<style scoped>\n",
       "    .dataframe tbody tr th:only-of-type {\n",
       "        vertical-align: middle;\n",
       "    }\n",
       "\n",
       "    .dataframe tbody tr th {\n",
       "        vertical-align: top;\n",
       "    }\n",
       "\n",
       "    .dataframe thead th {\n",
       "        text-align: right;\n",
       "    }\n",
       "</style>\n",
       "<table border=\"1\" class=\"dataframe\">\n",
       "  <thead>\n",
       "    <tr style=\"text-align: right;\">\n",
       "      <th></th>\n",
       "      <th>Direction</th>\n",
       "      <th>INCOMING</th>\n",
       "      <th>OUTGOING</th>\n",
       "    </tr>\n",
       "    <tr>\n",
       "      <th>Year</th>\n",
       "      <th>Month</th>\n",
       "      <th></th>\n",
       "      <th></th>\n",
       "    </tr>\n",
       "  </thead>\n",
       "  <tbody>\n",
       "    <tr>\n",
       "      <th>19</th>\n",
       "      <th>12</th>\n",
       "      <td>29.0</td>\n",
       "      <td>0.0</td>\n",
       "    </tr>\n",
       "    <tr>\n",
       "      <th rowspan=\"12\" valign=\"top\">20</th>\n",
       "      <th>1</th>\n",
       "      <td>12.0</td>\n",
       "      <td>0.0</td>\n",
       "    </tr>\n",
       "    <tr>\n",
       "      <th>2</th>\n",
       "      <td>8.0</td>\n",
       "      <td>0.0</td>\n",
       "    </tr>\n",
       "    <tr>\n",
       "      <th>3</th>\n",
       "      <td>3.0</td>\n",
       "      <td>2.0</td>\n",
       "    </tr>\n",
       "    <tr>\n",
       "      <th>4</th>\n",
       "      <td>1.0</td>\n",
       "      <td>0.0</td>\n",
       "    </tr>\n",
       "    <tr>\n",
       "      <th>5</th>\n",
       "      <td>0.0</td>\n",
       "      <td>2.0</td>\n",
       "    </tr>\n",
       "    <tr>\n",
       "      <th>6</th>\n",
       "      <td>28.0</td>\n",
       "      <td>4.0</td>\n",
       "    </tr>\n",
       "    <tr>\n",
       "      <th>7</th>\n",
       "      <td>82.0</td>\n",
       "      <td>31.0</td>\n",
       "    </tr>\n",
       "    <tr>\n",
       "      <th>8</th>\n",
       "      <td>77.0</td>\n",
       "      <td>22.0</td>\n",
       "    </tr>\n",
       "    <tr>\n",
       "      <th>9</th>\n",
       "      <td>73.0</td>\n",
       "      <td>20.0</td>\n",
       "    </tr>\n",
       "    <tr>\n",
       "      <th>10</th>\n",
       "      <td>65.0</td>\n",
       "      <td>25.0</td>\n",
       "    </tr>\n",
       "    <tr>\n",
       "      <th>11</th>\n",
       "      <td>54.0</td>\n",
       "      <td>15.0</td>\n",
       "    </tr>\n",
       "    <tr>\n",
       "      <th>12</th>\n",
       "      <td>23.0</td>\n",
       "      <td>6.0</td>\n",
       "    </tr>\n",
       "  </tbody>\n",
       "</table>\n",
       "</div>"
      ],
      "text/plain": [
       "Direction   INCOMING  OUTGOING\n",
       "Year Month                    \n",
       "19   12         29.0       0.0\n",
       "20   1          12.0       0.0\n",
       "     2           8.0       0.0\n",
       "     3           3.0       2.0\n",
       "     4           1.0       0.0\n",
       "     5           0.0       2.0\n",
       "     6          28.0       4.0\n",
       "     7          82.0      31.0\n",
       "     8          77.0      22.0\n",
       "     9          73.0      20.0\n",
       "     10         65.0      25.0\n",
       "     11         54.0      15.0\n",
       "     12         23.0       6.0"
      ]
     },
     "execution_count": 10,
     "metadata": {},
     "output_type": "execute_result"
    }
   ],
   "source": [
    "pivot=Invitations.pivot_table(index=['Year', 'Month'] , columns=['Direction'],values='From', aggfunc='count').fillna(0) #, columns='Month'\n",
    "pivot"
   ]
  },
  {
   "cell_type": "code",
   "execution_count": 11,
   "metadata": {},
   "outputs": [
    {
     "data": {
      "image/png": "[encoded data removed]",
      "text/plain": [
       "<Figure size 432x288 with 1 Axes>"
      ]
     },
     "metadata": {
      "needs_background": "light"
     },
     "output_type": "display_data"
    }
   ],
   "source": [
    "pivot.sort_values(['Year', 'Month'], ascending=True)\n",
    "pivot.plot()\n",
    "plt.title('Invites distribution in the last year')\n",
    "plt.ylabel('Number of invites')\n",
    "plt.show()"
   ]
  },
  {
   "cell_type": "code",
   "execution_count": 12,
   "metadata": {},
   "outputs": [],
   "source": [
    "pivot = Invitations.pivot_table(index=['AP'], values=['From'], aggfunc='count', margins=False)\n",
    "pivot1=pivot.reset_index()\n",
    "pivot1['percentage']= np.round(100* (pivot1['From']/pivot1['From'].sum()),1)"
   ]
  },
  {
   "cell_type": "code",
   "execution_count": 13,
   "metadata": {},
   "outputs": [
    {
     "data": {
      "image/png": "[encoded data removed]",
      "text/plain": [
       "<Figure size 432x288 with 1 Axes>"
      ]
     },
     "metadata": {},
     "output_type": "display_data"
    }
   ],
   "source": [
    "explode = (0.1, 0)\n",
    "fig1, ax1 = plt.subplots()\n",
    "ax1.pie(pivot1['percentage'], explode=explode, labels=pivot1['AP'], autopct='%1.1f%%',\n",
    "        shadow=True, startangle=90)\n",
    "ax1.axis('equal')  # Equal aspect ratio ensures that pie is drawn as a circle.\n",
    "\n",
    "plt.show()"
   ]
  },
  {
   "cell_type": "code",
   "execution_count": 14,
   "metadata": {},
   "outputs": [
    {
     "data": {
      "image/png": "[encoded data removed]",
      "text/plain": [
       "<Figure size 432x288 with 1 Axes>"
      ]
     },
     "metadata": {
      "needs_background": "light"
     },
     "output_type": "display_data"
    }
   ],
   "source": [
    "plt.plot(Invitations.pivot_table(index=['Hour_st24'], values='From', aggfunc='count'))\n",
    "plt.show()"
   ]
  },
  {
   "cell_type": "code",
   "execution_count": null,
   "metadata": {},
   "outputs": [],
   "source": []
  }
 ],
 "metadata": {
  "kernelspec": {
   "display_name": "Python 3",
   "language": "python",
   "name": "python3"
  },
  "language_info": {
   "codemirror_mode": {
    "name": "ipython",
    "version": 3
   },
   "file_extension": ".py",
   "mimetype": "text/x-python",
   "name": "python",
   "nbconvert_exporter": "python",
   "pygments_lexer": "ipython3",
   "version": "3.7.9"
  }
 },
 "nbformat": 4,
 "nbformat_minor": 4
}
